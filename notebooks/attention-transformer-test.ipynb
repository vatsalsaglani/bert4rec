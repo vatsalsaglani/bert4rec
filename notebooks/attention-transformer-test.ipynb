{
 "cells": [
  {
   "cell_type": "code",
   "execution_count": 1,
   "metadata": {},
   "outputs": [],
   "source": [
    "import sys\n",
    "\n",
    "sys.path.append(\"../scripts\")\n",
    "from AttentionTransformer.Encoder import Encoder\n",
    "from AttentionTransformer.Decoder import Decoder\n",
    "from bert4rec_dataset import Bert4RecDataset\n",
    "import torch.nn.modules as nn"
   ]
  },
  {
   "cell_type": "code",
   "execution_count": 2,
   "metadata": {},
   "outputs": [],
   "source": [
    "class RecModel(nn.Module):\n",
    "    def __init__(self,\n",
    "                 vocab_size,\n",
    "                 heads=4,\n",
    "                 layers=6,\n",
    "                 emb_dim=512,\n",
    "                 pad_id=0,\n",
    "                 num_pos=120):\n",
    "        super().__init__()\n",
    "        self.emb_dim = emb_dim\n",
    "        self.pad_id = pad_id\n",
    "        self.num_pos = num_pos\n",
    "        self.vocab_size = vocab_size\n",
    "        self.channel_dim = num_pos * emb_dim\n",
    "        self.encoder = Encoder(source_vocab_size=vocab_size,\n",
    "                               emb_dim=emb_dim,\n",
    "                               layers=layers,\n",
    "                               heads=heads,\n",
    "                               dim_key=emb_dim,\n",
    "                               dim_value=emb_dim,\n",
    "                               dim_model=emb_dim,\n",
    "                               dim_inner=emb_dim * 2,\n",
    "                               pad_id=pad_id,\n",
    "                               num_pos=num_pos)\n",
    "        self.decoder = Decoder()\n",
    "        self.lin_op = nn.Linear(512, self.vocab_size)\n",
    "\n",
    "    def forward(self, x):\n",
    "        bs = x.size(0)\n",
    "        x = self.encoder(x, None)\n",
    "        x = x.view(-1, x.size(2))\n",
    "        print(x.size())\n",
    "        x = self.lin_op(x)\n",
    "        x = x.view(bs,int(x.size(0)/bs), -1)\n",
    "        return x\n"
   ]
  },
  {
   "cell_type": "code",
   "execution_count": 4,
   "metadata": {},
   "outputs": [],
   "source": [
    "# model = RecModel(vocab_size = 9725)"
   ]
  },
  {
   "cell_type": "code",
   "execution_count": 2,
   "metadata": {},
   "outputs": [],
   "source": [
    "import pandas as pd\n",
    "from torch.utils.data import DataLoader\n",
    "\n",
    "data = pd.read_csv(\"../data/ratings_mapped.csv\")\n",
    "ds = Bert4RecDataset(data_csv=data,\n",
    "                     group_by_col=\"userId\",\n",
    "                     data_col=\"movieId_mapped\")\n",
    "dl = DataLoader(ds, batch_size=2, shuffle=True)\n",
    "tnsr = next(iter(dl))"
   ]
  },
  {
   "cell_type": "code",
   "execution_count": 3,
   "metadata": {},
   "outputs": [
    {
     "data": {
      "text/plain": [
       "tensor([[   1, 1497,    1, 1253, 1445, 1057, 1762,  600, 1774, 1662,    1,    1,\n",
       "            1, 1517, 2145, 2151, 2710, 1980, 1405, 1292,    1, 1188,    1,    1,\n",
       "          615,    1,   20,    1,    1,    1, 2286,    1,    1,    1,    1,  820,\n",
       "            1,  186, 5724, 5726, 5335, 3219, 3128, 2845, 2219,  717,  653, 6213,\n",
       "            1,    1, 5718, 3662,  899,  721,  125, 6136, 4113, 3625, 3567, 3138,\n",
       "         3014, 2943,    1, 2032, 1915, 1487, 1299,    1,    1, 1056,  377,  328,\n",
       "          313,    1, 6757, 6522, 6295, 5255, 4304, 3349, 3099, 2889, 1588, 1376,\n",
       "         6719, 6284, 6208, 5878, 4841, 4497, 2737,    1,  226,    1, 5261, 4609,\n",
       "         3851, 3164, 2886,    1, 2039, 1629,    1, 1110,    0,    0,    0,    0,\n",
       "            0,    0,    0,    0,    0,    0,    0,    0,    0,    0,    0,    0],\n",
       "        [   0,    0,    0,    0,    0,    0,    0,    0,    0,    0,    0,    0,\n",
       "            0,    0,    0,    0,    0,    0,    0,    0,    0,    0,    0,    0,\n",
       "            0,    0,    0,    0,    0,    0,    0,    0,    0,    0,    0,    0,\n",
       "            0,    0,    0,    0,    0,    0,    0,    0,    0,    0,    0,    0,\n",
       "            0,  548,    1,  596,    2,   26,    1,  617,    1,  118,    1,  594,\n",
       "            4,    7,   35,    8,    1,  817,    1,  579,   54,    1,    1,  551,\n",
       "          621,   49,  553, 1045,    1,  535,  586,    1,    1,   68,  660,    1,\n",
       "           27,    1, 1053,    1,  629,  658,    1,  813,  887,    1,   72, 1086,\n",
       "          534,    1,  760, 1101, 1106, 1097, 1120, 1119,  259,   48,   22,  275,\n",
       "          279,    1,  511,  465,  305,  436,  230,  512,  204,  842,  357,  218]])"
      ]
     },
     "execution_count": 3,
     "metadata": {},
     "output_type": "execute_result"
    }
   ],
   "source": [
    "tnsr[\"source\"]"
   ]
  },
  {
   "cell_type": "code",
   "execution_count": 4,
   "metadata": {},
   "outputs": [
    {
     "data": {
      "text/plain": [
       "tensor([[1055, 1497, 1827, 1253, 1445, 1057, 1762,  600, 1774, 1662,  997,  956,\n",
       "          855, 1517, 2145, 2151, 2710, 1980, 1405, 1292, 1212, 1188, 1184,  829,\n",
       "          615,  336,   20, 4633, 2639, 2392, 2286, 2194, 1147,  962,  922,  820,\n",
       "          457,  186, 5724, 5726, 5335, 3219, 3128, 2845, 2219,  717,  653, 6213,\n",
       "         6039, 5974, 5718, 3662,  899,  721,  125, 6136, 4113, 3625, 3567, 3138,\n",
       "         3014, 2943, 2196, 2032, 1915, 1487, 1299, 1225, 1125, 1056,  377,  328,\n",
       "          313,  216, 6757, 6522, 6295, 5255, 4304, 3349, 3099, 2889, 1588, 1376,\n",
       "         6719, 6284, 6208, 5878, 4841, 4497, 2737, 2147,  226,  140, 5261, 4609,\n",
       "         3851, 3164, 2886, 2805, 2039, 1629, 1268, 1110,    0,    0,    0,    0,\n",
       "            0,    0,    0,    0,    0,    0,    0,    0,    0,    0,    0,    0],\n",
       "        [   0,    0,    0,    0,    0,    0,    0,    0,    0,    0,    0,    0,\n",
       "            0,    0,    0,    0,    0,    0,    0,    0,    0,    0,    0,    0,\n",
       "            0,    0,    0,    0,    0,    0,    0,    0,    0,    0,    0,    0,\n",
       "            0,    0,    0,    0,    0,    0,    0,    0,    0,    0,    0,    0,\n",
       "            0,  548,   57,  596,    2,   26,   33,  617,   86,  118,  522,  594,\n",
       "            4,    7,   35,    8,  623,  817,  624,  579,   54,  335,  226,  551,\n",
       "          621,   49,  553, 1045,  117,  535,  586,  632,   90,   68,  660,  608,\n",
       "           27, 1074, 1053,  570,  629,  658,  670,  813,  887, 1072,   72, 1086,\n",
       "          534, 1084,  760, 1101, 1106, 1097, 1120, 1119,  259,   48,   22,  275,\n",
       "          279,  820,  511,  465,  305,  436,  230,  512,  204,  842,  357,  218]])"
      ]
     },
     "execution_count": 4,
     "metadata": {},
     "output_type": "execute_result"
    }
   ],
   "source": [
    "tnsr[\"target\"]"
   ]
  },
  {
   "cell_type": "code",
   "execution_count": 6,
   "metadata": {},
   "outputs": [
    {
     "data": {
      "text/plain": [
       "tensor([[ True, False,  True, False, False, False, False, False, False, False,\n",
       "          True,  True,  True, False, False, False, False, False, False, False,\n",
       "          True, False,  True,  True, False,  True, False,  True,  True,  True,\n",
       "         False,  True,  True,  True,  True, False,  True, False, False, False,\n",
       "         False, False, False, False, False, False, False, False,  True,  True,\n",
       "         False, False, False, False, False, False, False, False, False, False,\n",
       "         False, False,  True, False, False, False, False,  True,  True, False,\n",
       "         False, False, False,  True, False, False, False, False, False, False,\n",
       "         False, False, False, False, False, False, False, False, False, False,\n",
       "         False,  True, False,  True, False, False, False, False, False,  True,\n",
       "         False, False,  True, False, False, False, False, False, False, False,\n",
       "         False, False, False, False, False, False, False, False, False, False],\n",
       "        [False, False, False, False, False, False, False, False, False, False,\n",
       "         False, False, False, False, False, False, False, False, False, False,\n",
       "         False, False, False, False, False, False, False, False, False, False,\n",
       "         False, False, False, False, False, False, False, False, False, False,\n",
       "         False, False, False, False, False, False, False, False, False, False,\n",
       "          True, False, False, False,  True, False,  True, False,  True, False,\n",
       "         False, False, False, False,  True, False,  True, False, False,  True,\n",
       "          True, False, False, False, False, False,  True, False, False,  True,\n",
       "          True, False, False,  True, False,  True, False,  True, False, False,\n",
       "          True, False, False,  True, False, False, False,  True, False, False,\n",
       "         False, False, False, False, False, False, False, False, False,  True,\n",
       "         False, False, False, False, False, False, False, False, False, False]])"
      ]
     },
     "execution_count": 6,
     "metadata": {},
     "output_type": "execute_result"
    }
   ],
   "source": [
    "tnsr[\"source\"] == 1"
   ]
  },
  {
   "cell_type": "code",
   "execution_count": null,
   "metadata": {},
   "outputs": [
    {
     "data": {
      "text/plain": [
       "dict_keys(['source', 'target', 'source_mask', 'target_mask'])"
      ]
     },
     "execution_count": 163,
     "metadata": {},
     "output_type": "execute_result"
    }
   ],
   "source": [
    "tnsr.keys()"
   ]
  },
  {
   "cell_type": "code",
   "execution_count": 164,
   "metadata": {},
   "outputs": [
    {
     "data": {
      "text/plain": [
       "torch.Size([2, 120])"
      ]
     },
     "execution_count": 164,
     "metadata": {},
     "output_type": "execute_result"
    }
   ],
   "source": [
    "tnsr[\"source\"].size()"
   ]
  },
  {
   "cell_type": "code",
   "execution_count": 165,
   "metadata": {},
   "outputs": [
    {
     "data": {
      "text/plain": [
       "torch.Size([2, 120])"
      ]
     },
     "execution_count": 165,
     "metadata": {},
     "output_type": "execute_result"
    }
   ],
   "source": [
    "tnsr[\"source_mask\"].size()"
   ]
  },
  {
   "cell_type": "code",
   "execution_count": 166,
   "metadata": {},
   "outputs": [
    {
     "name": "stdout",
     "output_type": "stream",
     "text": [
      "torch.Size([240, 512])\n"
     ]
    }
   ],
   "source": [
    "op = model(tnsr[\"source\"])"
   ]
  },
  {
   "cell_type": "code",
   "execution_count": 167,
   "metadata": {},
   "outputs": [
    {
     "data": {
      "text/plain": [
       "torch.Size([2, 120, 9725])"
      ]
     },
     "execution_count": 167,
     "metadata": {},
     "output_type": "execute_result"
    }
   ],
   "source": [
    "op.size()"
   ]
  },
  {
   "cell_type": "code",
   "execution_count": 168,
   "metadata": {},
   "outputs": [],
   "source": [
    "import torch"
   ]
  },
  {
   "cell_type": "code",
   "execution_count": 169,
   "metadata": {},
   "outputs": [],
   "source": [
    "src = tnsr[\"source\"]"
   ]
  },
  {
   "cell_type": "code",
   "execution_count": 170,
   "metadata": {},
   "outputs": [],
   "source": [
    "mask = src == 1"
   ]
  },
  {
   "cell_type": "code",
   "execution_count": 171,
   "metadata": {},
   "outputs": [],
   "source": [
    "import torch"
   ]
  },
  {
   "cell_type": "code",
   "execution_count": 177,
   "metadata": {},
   "outputs": [],
   "source": [
    "_, predicted = op.max(2)"
   ]
  },
  {
   "cell_type": "code",
   "execution_count": 178,
   "metadata": {},
   "outputs": [
    {
     "data": {
      "text/plain": [
       "torch.Size([2, 120, 9725])"
      ]
     },
     "execution_count": 178,
     "metadata": {},
     "output_type": "execute_result"
    }
   ],
   "source": [
    "op.size()"
   ]
  },
  {
   "cell_type": "code",
   "execution_count": 179,
   "metadata": {},
   "outputs": [
    {
     "data": {
      "text/plain": [
       "torch.Size([2, 120])"
      ]
     },
     "execution_count": 179,
     "metadata": {},
     "output_type": "execute_result"
    }
   ],
   "source": [
    "src.size()"
   ]
  },
  {
   "cell_type": "code",
   "execution_count": 180,
   "metadata": {},
   "outputs": [
    {
     "data": {
      "text/plain": [
       "torch.Size([2, 120])"
      ]
     },
     "execution_count": 180,
     "metadata": {},
     "output_type": "execute_result"
    }
   ],
   "source": [
    "predicted.size()"
   ]
  },
  {
   "cell_type": "code",
   "execution_count": 181,
   "metadata": {},
   "outputs": [],
   "source": [
    "y_true = torch.masked_select(src, mask)\n",
    "predicted = torch.masked_select(predicted, mask)\n",
    "acc = (y_true.view(-1) == predicted).double().mean()\n"
   ]
  },
  {
   "cell_type": "code",
   "execution_count": 182,
   "metadata": {},
   "outputs": [
    {
     "data": {
      "text/plain": [
       "tensor(0., dtype=torch.float64)"
      ]
     },
     "execution_count": 182,
     "metadata": {},
     "output_type": "execute_result"
    }
   ],
   "source": [
    "acc"
   ]
  },
  {
   "cell_type": "code",
   "execution_count": 183,
   "metadata": {},
   "outputs": [],
   "source": [
    "import torch.nn.functional as F"
   ]
  },
  {
   "cell_type": "code",
   "execution_count": 184,
   "metadata": {},
   "outputs": [
    {
     "data": {
      "text/plain": [
       "torch.Size([240, 9725])"
      ]
     },
     "execution_count": 184,
     "metadata": {},
     "output_type": "execute_result"
    }
   ],
   "source": [
    "op.view(-1, op.size(2)).size()"
   ]
  },
  {
   "cell_type": "code",
   "execution_count": 185,
   "metadata": {},
   "outputs": [],
   "source": [
    "trg = tnsr[\"target\"]"
   ]
  },
  {
   "cell_type": "code",
   "execution_count": 186,
   "metadata": {},
   "outputs": [
    {
     "data": {
      "text/plain": [
       "torch.Size([240])"
      ]
     },
     "execution_count": 186,
     "metadata": {},
     "output_type": "execute_result"
    }
   ],
   "source": [
    "trg.view(-1).size()"
   ]
  },
  {
   "cell_type": "code",
   "execution_count": 188,
   "metadata": {},
   "outputs": [],
   "source": [
    "y_pred = op.view(-1, op.size(2))\n",
    "y_true = trg.view(-1)"
   ]
  },
  {
   "cell_type": "code",
   "execution_count": 189,
   "metadata": {},
   "outputs": [
    {
     "data": {
      "text/plain": [
       "(torch.Size([240, 9725]), torch.Size([240]))"
      ]
     },
     "execution_count": 189,
     "metadata": {},
     "output_type": "execute_result"
    }
   ],
   "source": [
    "y_pred.size(), y_true.size()"
   ]
  },
  {
   "cell_type": "code",
   "execution_count": 190,
   "metadata": {},
   "outputs": [],
   "source": [
    "loss = F.cross_entropy(op.view(-1, op.size(2)), trg.view(-1), reduction=\"none\")"
   ]
  },
  {
   "cell_type": "code",
   "execution_count": 196,
   "metadata": {},
   "outputs": [],
   "source": [
    "loss = loss * mask.view(-1)"
   ]
  },
  {
   "cell_type": "code",
   "execution_count": 197,
   "metadata": {},
   "outputs": [
    {
     "data": {
      "text/plain": [
       "tensor(9.3686, grad_fn=<DivBackward0>)"
      ]
     },
     "execution_count": 197,
     "metadata": {},
     "output_type": "execute_result"
    }
   ],
   "source": [
    "loss.sum() / (mask.sum() + 1e-8)"
   ]
  },
  {
   "cell_type": "code",
   "execution_count": null,
   "metadata": {},
   "outputs": [],
   "source": []
  },
  {
   "cell_type": "code",
   "execution_count": 193,
   "metadata": {},
   "outputs": [
    {
     "data": {
      "text/plain": [
       "torch.Size([240])"
      ]
     },
     "execution_count": 193,
     "metadata": {},
     "output_type": "execute_result"
    }
   ],
   "source": [
    "loss.size()"
   ]
  },
  {
   "cell_type": "code",
   "execution_count": 194,
   "metadata": {},
   "outputs": [
    {
     "data": {
      "text/plain": [
       "torch.Size([2, 120])"
      ]
     },
     "execution_count": 194,
     "metadata": {},
     "output_type": "execute_result"
    }
   ],
   "source": [
    "mask.size()"
   ]
  },
  {
   "cell_type": "code",
   "execution_count": null,
   "metadata": {},
   "outputs": [],
   "source": []
  }
 ],
 "metadata": {
  "kernelspec": {
   "display_name": "Python 3.7.7 ('element_matcher')",
   "language": "python",
   "name": "python3"
  },
  "language_info": {
   "codemirror_mode": {
    "name": "ipython",
    "version": 3
   },
   "file_extension": ".py",
   "mimetype": "text/x-python",
   "name": "python",
   "nbconvert_exporter": "python",
   "pygments_lexer": "ipython3",
   "version": "3.7.7"
  },
  "orig_nbformat": 4,
  "vscode": {
   "interpreter": {
    "hash": "61e12ae0137a3e43a9799aad653b6b5cffc549d848ca31118c16b4f3031525eb"
   }
  }
 },
 "nbformat": 4,
 "nbformat_minor": 2
}
