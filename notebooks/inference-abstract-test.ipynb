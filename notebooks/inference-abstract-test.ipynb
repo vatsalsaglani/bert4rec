{
 "cells": [
  {
   "cell_type": "code",
   "execution_count": 1,
   "metadata": {},
   "outputs": [],
   "source": [
    "import sys\n",
    "sys.path.append(\"../server/\")"
   ]
  },
  {
   "cell_type": "code",
   "execution_count": 2,
   "metadata": {},
   "outputs": [],
   "source": [
    "from predict import Recommender"
   ]
  },
  {
   "cell_type": "code",
   "execution_count": 3,
   "metadata": {},
   "outputs": [],
   "source": [
    "rec = Recommender(\"../models/rec-transformer-model-2/model_files/bert4rec-state-dict.pth\")"
   ]
  },
  {
   "cell_type": "code",
   "execution_count": 11,
   "metadata": {},
   "outputs": [
    {
     "data": {
      "text/plain": [
       "[7030,\n",
       " 2482,\n",
       " 2869,\n",
       " 587,\n",
       " 316,\n",
       " 4889,\n",
       " 9122,\n",
       " 5575,\n",
       " 7195,\n",
       " 294,\n",
       " 7238,\n",
       " 4869,\n",
       " 524,\n",
       " 2768,\n",
       " 4869]"
      ]
     },
     "execution_count": 11,
     "metadata": {},
     "output_type": "execute_result"
    }
   ],
   "source": [
    "rec.recommend([9122, 5575, 7195,  294, 7238], num_recs=10, mode = \"seq\")"
   ]
  },
  {
   "cell_type": "code",
   "execution_count": null,
   "metadata": {},
   "outputs": [],
   "source": []
  }
 ],
 "metadata": {
  "kernelspec": {
   "display_name": "Python 3.7.10 ('clustering')",
   "language": "python",
   "name": "python3"
  },
  "language_info": {
   "codemirror_mode": {
    "name": "ipython",
    "version": 3
   },
   "file_extension": ".py",
   "mimetype": "text/x-python",
   "name": "python",
   "nbconvert_exporter": "python",
   "pygments_lexer": "ipython3",
   "version": "3.7.10"
  },
  "orig_nbformat": 4,
  "vscode": {
   "interpreter": {
    "hash": "ff9c16f4f11009bb918bd4cbef0c02902e53456483176d7e27b50617b808988a"
   }
  }
 },
 "nbformat": 4,
 "nbformat_minor": 2
}
