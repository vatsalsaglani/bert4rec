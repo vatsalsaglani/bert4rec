{
 "cells": [
  {
   "cell_type": "code",
   "execution_count": 1,
   "metadata": {},
   "outputs": [],
   "source": [
    "import os\n",
    "import re\n",
    "import torch as T\n",
    "import torch.nn.functional as F\n",
    "import pandas as pd"
   ]
  },
  {
   "cell_type": "code",
   "execution_count": 2,
   "metadata": {},
   "outputs": [],
   "source": [
    "import sys\n",
    "sys.path.append(\"../scripts/\")"
   ]
  },
  {
   "cell_type": "code",
   "execution_count": 3,
   "metadata": {},
   "outputs": [],
   "source": [
    "from bert4rec_model import RecommendationModel\n",
    "from bert4rec_dataset import Bert4RecDataset"
   ]
  },
  {
   "cell_type": "code",
   "execution_count": 4,
   "metadata": {},
   "outputs": [],
   "source": [
    "data = pd.read_csv(\"../data/ratings_mapped.csv\")"
   ]
  },
  {
   "cell_type": "code",
   "execution_count": 5,
   "metadata": {},
   "outputs": [
    {
     "data": {
      "text/html": [
       "<div>\n",
       "<style scoped>\n",
       "    .dataframe tbody tr th:only-of-type {\n",
       "        vertical-align: middle;\n",
       "    }\n",
       "\n",
       "    .dataframe tbody tr th {\n",
       "        vertical-align: top;\n",
       "    }\n",
       "\n",
       "    .dataframe thead th {\n",
       "        text-align: right;\n",
       "    }\n",
       "</style>\n",
       "<table border=\"1\" class=\"dataframe\">\n",
       "  <thead>\n",
       "    <tr style=\"text-align: right;\">\n",
       "      <th></th>\n",
       "      <th>userId</th>\n",
       "      <th>movieId</th>\n",
       "      <th>rating</th>\n",
       "      <th>timestamp</th>\n",
       "      <th>movieId_mapped</th>\n",
       "    </tr>\n",
       "  </thead>\n",
       "  <tbody>\n",
       "    <tr>\n",
       "      <th>0</th>\n",
       "      <td>429</td>\n",
       "      <td>595</td>\n",
       "      <td>5.0</td>\n",
       "      <td>828124615</td>\n",
       "      <td>514</td>\n",
       "    </tr>\n",
       "    <tr>\n",
       "      <th>1</th>\n",
       "      <td>429</td>\n",
       "      <td>588</td>\n",
       "      <td>5.0</td>\n",
       "      <td>828124615</td>\n",
       "      <td>508</td>\n",
       "    </tr>\n",
       "    <tr>\n",
       "      <th>2</th>\n",
       "      <td>429</td>\n",
       "      <td>590</td>\n",
       "      <td>5.0</td>\n",
       "      <td>828124615</td>\n",
       "      <td>510</td>\n",
       "    </tr>\n",
       "    <tr>\n",
       "      <th>3</th>\n",
       "      <td>429</td>\n",
       "      <td>592</td>\n",
       "      <td>5.0</td>\n",
       "      <td>828124615</td>\n",
       "      <td>511</td>\n",
       "    </tr>\n",
       "    <tr>\n",
       "      <th>4</th>\n",
       "      <td>429</td>\n",
       "      <td>432</td>\n",
       "      <td>3.0</td>\n",
       "      <td>828124615</td>\n",
       "      <td>378</td>\n",
       "    </tr>\n",
       "  </tbody>\n",
       "</table>\n",
       "</div>"
      ],
      "text/plain": [
       "   userId  movieId  rating  timestamp  movieId_mapped\n",
       "0     429      595     5.0  828124615             514\n",
       "1     429      588     5.0  828124615             508\n",
       "2     429      590     5.0  828124615             510\n",
       "3     429      592     5.0  828124615             511\n",
       "4     429      432     3.0  828124615             378"
      ]
     },
     "execution_count": 5,
     "metadata": {},
     "output_type": "execute_result"
    }
   ],
   "source": [
    "data.head()"
   ]
  },
  {
   "cell_type": "code",
   "execution_count": 6,
   "metadata": {},
   "outputs": [
    {
     "name": "stdout",
     "output_type": "stream",
     "text": [
      "NUM POS:  128\n"
     ]
    }
   ],
   "source": [
    "rec_model = RecommendationModel(9725)"
   ]
  },
  {
   "cell_type": "code",
   "execution_count": 7,
   "metadata": {},
   "outputs": [],
   "source": [
    "from AttentionTransformer.utilities import count_model_parameters"
   ]
  },
  {
   "cell_type": "code",
   "execution_count": 8,
   "metadata": {},
   "outputs": [
    {
     "data": {
      "text/plain": [
       "4.882173"
      ]
     },
     "execution_count": 8,
     "metadata": {},
     "output_type": "execute_result"
    }
   ],
   "source": [
    "count_model_parameters(rec_model) / 1e6"
   ]
  },
  {
   "cell_type": "code",
   "execution_count": 9,
   "metadata": {},
   "outputs": [],
   "source": [
    "dataset = Bert4RecDataset(data_csv=data,\n",
    "                          group_by_col=\"userId\",\n",
    "                          data_col=\"movieId_mapped\")\n"
   ]
  },
  {
   "cell_type": "code",
   "execution_count": 10,
   "metadata": {},
   "outputs": [],
   "source": [
    "from torch.utils.data import DataLoader"
   ]
  },
  {
   "cell_type": "code",
   "execution_count": 11,
   "metadata": {},
   "outputs": [],
   "source": [
    "dataloader = DataLoader(dataset, batch_size = 8, shuffle = True)"
   ]
  },
  {
   "cell_type": "code",
   "execution_count": 12,
   "metadata": {},
   "outputs": [],
   "source": [
    "batch_1 = next(iter(dataloader))"
   ]
  },
  {
   "cell_type": "code",
   "execution_count": 13,
   "metadata": {},
   "outputs": [
    {
     "data": {
      "text/plain": [
       "dict_keys(['source', 'target', 'source_mask', 'target_mask'])"
      ]
     },
     "execution_count": 13,
     "metadata": {},
     "output_type": "execute_result"
    }
   ],
   "source": [
    "batch_1.keys()"
   ]
  },
  {
   "cell_type": "code",
   "execution_count": 31,
   "metadata": {},
   "outputs": [
    {
     "data": {
      "text/plain": [
       "(tensor([   0,    0,    0,    0,    0,    0,    0,    0,    0,    0,    0,    0,\n",
       "            0,    0,    0,    0,    0,    0,    0,    0,    0,    0,    0,    0,\n",
       "            0,    0,    0,    0,    0,    0,    0,    0,    0,    0,    0,    0,\n",
       "            0,    0,    0,    0,    0,    0,    0,    0,    0,    0,    0,    0,\n",
       "            0,    0,    0,    0,    0,    0,    0,    0,    0,    0,    0,    0,\n",
       "            0,    0,    0,    0,    0,    0,    0,    0,    0,    0,    0,    0,\n",
       "            0,    0,    0,    0,    0,    0,    0,    0,    0,    0,    0,    0,\n",
       "            0,    0,    0,    0,    0,    0,    0,    0,    0,    0,    0,    0,\n",
       "            0,    0,    0,    0,    0,    1,  708,  909,    1,  517,  129,    1,\n",
       "          794,  698,  947,    1,  787, 1425, 1550, 1023,  907, 1533, 1906, 1926]),\n",
       " torch.Size([8, 120]))"
      ]
     },
     "execution_count": 31,
     "metadata": {},
     "output_type": "execute_result"
    }
   ],
   "source": [
    "batch_1['source'][0], batch_1['source'].size()"
   ]
  },
  {
   "cell_type": "code",
   "execution_count": 15,
   "metadata": {},
   "outputs": [
    {
     "data": {
      "text/plain": [
       "tensor([   0,    0,    0,    0,    0,    0,    0,    0,    0,    0,    0,    0,\n",
       "           0,    0,    0,    0,    0,    0,    0,    0,    0,    0,    0,    0,\n",
       "           0,    0,    0,    0,    0,    0,    0,    0,    0,    0,    0,    0,\n",
       "           0,    0,    0,    0,    0,    0,    0,    0,    0,    0,    0,    0,\n",
       "           0,    0,    0,    0,    0,    0,    0,    0,    0,    0,    0,    0,\n",
       "           0,    0,    0,    0,    0,    0,    0,    0,    0,    0,    0,    0,\n",
       "           0,    0,    0,    0,    0,    0,    0,    0,    0,    0,    0,    0,\n",
       "           0,    0,    0,    0,    0,    0,    0,    0,    0,    0,    0,    0,\n",
       "           0,    0,    0,    0,    0, 1591,  708,  909,  693,  517,  129,  951,\n",
       "         794,  698,  947, 1003,  787, 1425, 1550, 1023,  907, 1533, 1906, 1926])"
      ]
     },
     "execution_count": 15,
     "metadata": {},
     "output_type": "execute_result"
    }
   ],
   "source": [
    "batch_1['target'][0]"
   ]
  },
  {
   "cell_type": "code",
   "execution_count": 48,
   "metadata": {},
   "outputs": [
    {
     "name": "stdout",
     "output_type": "stream",
     "text": [
      "BATCH: torch.Size([8, 120])\n",
      "ITEMS: torch.Size([8, 120, 128])\n",
      "REPEAT BATCH: torch.Size([8, 120])\n",
      "ENCODED BATCH: torch.Size([8, 120, 128])\n",
      "PERMUTED BATCH: torch.Size([120, 8, 128])\n",
      "AFTER LINEAR BATCH: torch.Size([120, 8, 9725])\n"
     ]
    }
   ],
   "source": [
    "model_op = rec_model(batch_1[\"source\"])"
   ]
  },
  {
   "cell_type": "code",
   "execution_count": 49,
   "metadata": {},
   "outputs": [
    {
     "data": {
      "text/plain": [
       "torch.Size([120, 8, 9725])"
      ]
     },
     "execution_count": 49,
     "metadata": {},
     "output_type": "execute_result"
    }
   ],
   "source": [
    "model_op.size()"
   ]
  },
  {
   "cell_type": "code",
   "execution_count": 50,
   "metadata": {},
   "outputs": [],
   "source": [
    "mask = batch_1[\"source\"] == 1"
   ]
  },
  {
   "cell_type": "code",
   "execution_count": 51,
   "metadata": {},
   "outputs": [
    {
     "data": {
      "text/plain": [
       "torch.Size([8, 120])"
      ]
     },
     "execution_count": 51,
     "metadata": {},
     "output_type": "execute_result"
    }
   ],
   "source": [
    "batch_1[\"target\"].size()"
   ]
  },
  {
   "cell_type": "code",
   "execution_count": 52,
   "metadata": {},
   "outputs": [],
   "source": [
    "_, predicted = model_op.max(2)\n"
   ]
  },
  {
   "cell_type": "code",
   "execution_count": 53,
   "metadata": {},
   "outputs": [
    {
     "data": {
      "text/plain": [
       "torch.Size([120, 8])"
      ]
     },
     "execution_count": 53,
     "metadata": {},
     "output_type": "execute_result"
    }
   ],
   "source": [
    "predicted.size()"
   ]
  },
  {
   "cell_type": "code",
   "execution_count": 55,
   "metadata": {},
   "outputs": [
    {
     "data": {
      "text/plain": [
       "torch.Size([8, 120])"
      ]
     },
     "execution_count": 55,
     "metadata": {},
     "output_type": "execute_result"
    }
   ],
   "source": [
    "predicted.permute(1, 0).size()"
   ]
  },
  {
   "cell_type": "code",
   "execution_count": 22,
   "metadata": {},
   "outputs": [
    {
     "data": {
      "text/plain": [
       "tensor([[ 217, 3976,  731, 2816, 3362,  629,  992, 8677],\n",
       "        [1041, 8969, 1041, 2551, 8969, 5241, 2551, 8969],\n",
       "        [9224, 9628, 4263, 4263, 4263, 4263, 9628, 6748],\n",
       "        [9227, 3429, 3429, 2008, 1490, 2008, 3429, 4024],\n",
       "        [3079, 3079, 5137, 4077, 3079, 5137, 3079, 3079],\n",
       "        [8677, 8677, 8677, 8677, 8677, 8677, 6361, 8677],\n",
       "        [1984, 6094, 3373, 3759, 1984, 1497, 3303, 1984],\n",
       "        [9040, 6047, 9142, 5993, 7928, 7928, 2974,  217],\n",
       "        [5137, 5137, 5137, 5137, 5137, 5137, 5137,  748],\n",
       "        [ 486, 4707, 7002, 7614, 7614, 7614, 7614, 9040],\n",
       "        [9676, 9676, 3079, 3079, 3588, 3588, 9676, 3079],\n",
       "        [5864, 5864, 5864, 1526, 5864,  851, 5864, 5864],\n",
       "        [5371, 4279, 8102, 5371, 8102, 8102, 8102,  269],\n",
       "        [5496, 4938, 4938, 5241, 4938, 2151, 2151, 2151],\n",
       "        [5657, 9628, 5657, 5657, 5657, 5657, 5657, 5657],\n",
       "        [1352, 1467, 6240, 2342, 9628, 4340, 2733, 1352],\n",
       "        [4710, 7867, 5496, 4710, 5496, 4710, 4710, 1595],\n",
       "        [3976, 6396, 3976, 3976, 3976, 7867,   32, 3976],\n",
       "        [3079, 5145, 5145, 2305, 5145, 5145, 5145, 7874],\n",
       "        [2582, 3693, 2582, 3693, 2497, 3693, 2497, 2497],\n",
       "        [1497, 4922, 1497, 7240, 1497, 1497, 1497, 7240],\n",
       "        [3459, 4922, 3459,  875, 9231, 9231,  875, 4922],\n",
       "        [9231, 7874, 9607, 9607, 8102, 2151, 8102, 7943],\n",
       "        [8365,  748,  748,   70,  748, 8102, 1847, 8365],\n",
       "        [5107, 4006, 5107, 2789, 4006, 4006, 7874, 5107],\n",
       "        [ 198, 1592, 2133, 2133, 2133, 7932, 2133, 2133],\n",
       "        [6035,   28, 4826, 4827,   28,   28, 6035, 2541],\n",
       "        [5146, 5146, 7914, 9193, 7867, 3426, 7914, 2342],\n",
       "        [3588, 1143, 3292, 3588, 3588, 1143, 1143, 3588],\n",
       "        [9628, 9628, 9628, 9628, 9628, 9628, 9628, 9628],\n",
       "        [1497, 7600, 1497, 7317, 6802, 7670, 3793, 5956],\n",
       "        [2823, 2823, 9628, 2823, 2823, 9628,  819, 2823],\n",
       "        [ 199, 5769, 3380, 2374, 2374, 3588, 3588, 1613],\n",
       "        [ 702, 5496, 4710, 1502, 7285, 9231,  702, 7285],\n",
       "        [ 604, 1931, 1502, 2713, 1931, 6647, 7402, 3141],\n",
       "        [5858, 3488, 6802, 3488, 3488, 5506, 2509,  325],\n",
       "        [ 812, 4662, 3441, 6647, 7029, 7029, 5416, 7029],\n",
       "        [6611, 6611, 6617, 6617, 6617, 6611, 6617, 6617],\n",
       "        [   0, 7874, 7917, 3326, 8211, 8211,   28, 3326],\n",
       "        [6937, 2816, 6937, 6937, 2816, 6937, 2816, 6937],\n",
       "        [1359, 7901, 5293, 7867, 8457,  368, 5293, 4374],\n",
       "        [5956, 3382, 3382,   32, 3382,  368, 3382,  368],\n",
       "        [9412, 8138, 9412, 9412, 9412, 9412, 9412, 9412],\n",
       "        [6269, 6269, 3079, 6269, 3079, 3079, 1202, 6269],\n",
       "        [5616,  875, 5616,  329,  875, 5616,  875,  875],\n",
       "        [5496, 5496, 3459, 5496, 5496, 5496, 5496, 5496],\n",
       "        [8936, 1478, 5029, 8632,   32, 5496, 5029, 5029],\n",
       "        [7240, 6647, 8748, 9270, 9270, 2133, 7867, 1954],\n",
       "        [7485, 5496, 4091,  246, 9619, 7485, 2402, 5496],\n",
       "        [6892, 9231, 8369, 2599, 5496, 9231, 1497,   59],\n",
       "        [3645, 3645, 3645, 3645, 1432, 3645, 3645, 3645],\n",
       "        [3441, 3441, 3441, 6106, 3441, 7476, 3441, 7476],\n",
       "        [6432, 4477, 3798, 6975, 5172, 6141,  823,  611],\n",
       "        [5496, 5496, 1085, 1085, 1085, 1085, 1085, 1085],\n",
       "        [ 469, 2713, 8748,   59, 4106, 6474, 2713, 4659],\n",
       "        [6705,  217, 3588, 3588, 6705, 6705, 3588, 6705],\n",
       "        [6141, 6141, 6976, 6141, 6141, 6141, 6141, 6141],\n",
       "        [ 475, 5040,  475, 4581, 9386,  475, 3705, 7670],\n",
       "        [5241, 7426, 5241, 5241, 5241, 5241, 3588, 5241],\n",
       "        [7714, 7670, 6705, 6705, 7962, 1954, 3079, 6705],\n",
       "        [5956, 5956, 6857, 5045, 5956, 6857, 6857, 6857],\n",
       "        [ 785, 7670, 5414, 5414, 5414, 5414, 5414, 1771],\n",
       "        [2426, 2426, 6106, 2426, 2426, 2426, 2426, 2426],\n",
       "        [4184, 7949, 3079, 7949, 4892, 7317, 7317, 7317],\n",
       "        [8211, 1497,  490, 3459, 5496, 5496, 5496, 5496],\n",
       "        [5810,    0,    0, 5507, 5914, 5507, 3344,    0],\n",
       "        [5006, 7426, 1341,  555,  217,  555,  555, 1383],\n",
       "        [ 518, 9425, 5891, 3091, 5891, 5891,  518,  518],\n",
       "        [2426, 3893, 4262, 8748, 2426, 5891, 2426, 5891],\n",
       "        [6192, 7670, 7670, 7670, 7186, 7670, 7670, 7186],\n",
       "        [1595, 3454, 1595, 8583, 3454, 2437, 1595, 5137],\n",
       "        [7240, 6009, 6009, 6611, 6009, 3079, 6009, 6009],\n",
       "        [3894, 3600, 7006, 6185, 5137, 4854, 1809, 3894],\n",
       "        [6185, 3422, 9560, 3422, 9560, 6185, 7724, 3422],\n",
       "        [6705, 8328, 6705, 6705, 6705, 7368, 6705, 1541],\n",
       "        [5045, 5045,  812, 5040, 4386, 6420, 5040, 2873],\n",
       "        [5137, 5137, 5137, 9174, 5137, 5137, 5137, 5137],\n",
       "        [7541, 7541, 7541, 7541, 7541, 4024, 7541, 7541],\n",
       "        [8582, 3207, 5676, 2375, 3207, 3207, 5676, 8542],\n",
       "        [4182, 4182,  934, 4182,  934,  934,  934,  934],\n",
       "        [2406, 2024, 2406, 7558, 4539, 2406, 2406, 2406],\n",
       "        [8217, 8217,  194, 4813, 5296, 8217, 8217, 4793],\n",
       "        [4601, 8065, 6927,  853, 6009, 8065, 1439, 6927],\n",
       "        [4922,   32, 7925, 1646, 5045,  823, 4922, 8471],\n",
       "        [5137,  217, 3941, 7362, 1151, 1497,   32, 6185],\n",
       "        [7477, 7670, 7670, 7670, 7670, 8359, 1350, 7477],\n",
       "        [7240, 1497, 1954, 1954, 1954, 1305, 1497, 1954],\n",
       "        [3753, 3753, 4622, 3753, 8799, 2190, 4622, 3753],\n",
       "        [4922, 5600,  748, 7368, 4943, 7368, 3180, 4922],\n",
       "        [ 611, 2307, 2307, 2433, 2307, 2307, 9433, 2307],\n",
       "        [5956, 3176, 3645, 5956, 9435, 8659, 5956, 9435],\n",
       "        [4477, 5709, 5709, 4911, 5709, 2873, 6240, 5709],\n",
       "        [4539, 1497, 9560, 5137, 6602, 1497, 1497, 3912],\n",
       "        [9628, 9628, 6271, 6026, 5659, 9628, 6026, 9564],\n",
       "        [7949, 2816, 1230, 2816, 1984, 1230, 2816, 1230],\n",
       "        [9038, 8155, 8207, 6240, 8155, 7198, 5691, 2055],\n",
       "        [7368, 2170, 8757, 7368, 7368, 7368, 3609, 3609],\n",
       "        [3526, 8964, 7801, 4079, 3526,  477,  477, 3526],\n",
       "        [ 748, 8748,  748,  748, 3382,  748,  748,  748],\n",
       "        [ 232,   32, 3344, 3344, 3344, 3344, 3344, 3344],\n",
       "        [3344, 5391, 4862, 3588, 3588, 3588, 5391, 5391],\n",
       "        [1870, 1432, 4600, 4138, 1870, 7534, 1870, 2406],\n",
       "        [8032, 8032, 8032, 8032, 8032, 5467, 8032, 8032],\n",
       "        [ 187, 6185,  610, 6185, 6185, 6185, 6185, 6185],\n",
       "        [3462, 3462, 3462, 3462, 3462, 5107, 3462, 3462],\n",
       "        [2964, 6167, 3863, 6297, 9227,  407, 2055, 9676],\n",
       "        [8536, 6185, 1085, 1085, 8536, 5575, 1085, 1085],\n",
       "        [4683,  217, 7943, 8514, 8514, 6397, 2797, 8993],\n",
       "        [ 371, 6288,  555, 4877, 4877, 9692,  555, 9692],\n",
       "        [7593, 3422, 9628, 3079, 6035,  109, 7717, 3079],\n",
       "        [7874, 7874, 7243, 6182, 7874, 7742, 7874, 6182],\n",
       "        [4455, 8823, 3232, 4455, 6680, 8823, 8823, 8823],\n",
       "        [6367, 4477, 4477, 4477, 4477, 4477, 4477, 7194],\n",
       "        [8102, 4973, 7963, 7963, 8102, 8102, 7963, 6030],\n",
       "        [5240, 2065, 2065, 9711, 9711,  662, 3786, 9711],\n",
       "        [6424, 7368, 6424, 7488, 6424, 6424, 6617, 7368],\n",
       "        [ 463,  463,  463, 1954, 1954,  157, 4813,  463],\n",
       "        [4470, 9176, 4470,   59, 4470, 4470, 5016, 5016],\n",
       "        [6602, 6726, 2373, 2373, 2373, 3079, 8583, 3079],\n",
       "        [ 157, 2426, 2320, 6705, 2426,  157,  157, 2426]])"
      ]
     },
     "execution_count": 22,
     "metadata": {},
     "output_type": "execute_result"
    }
   ],
   "source": [
    "predicted"
   ]
  },
  {
   "cell_type": "code",
   "execution_count": 25,
   "metadata": {},
   "outputs": [
    {
     "data": {
      "text/plain": [
       "torch.Size([120, 8])"
      ]
     },
     "execution_count": 25,
     "metadata": {},
     "output_type": "execute_result"
    }
   ],
   "source": [
    "predicted.size()"
   ]
  },
  {
   "cell_type": "code",
   "execution_count": 26,
   "metadata": {},
   "outputs": [
    {
     "data": {
      "text/plain": [
       "torch.Size([120, 8])"
      ]
     },
     "execution_count": 26,
     "metadata": {},
     "output_type": "execute_result"
    }
   ],
   "source": [
    "mask.permute(1, 0).size()"
   ]
  },
  {
   "cell_type": "code",
   "execution_count": 23,
   "metadata": {},
   "outputs": [
    {
     "data": {
      "text/plain": [
       "torch.Size([8, 120])"
      ]
     },
     "execution_count": 23,
     "metadata": {},
     "output_type": "execute_result"
    }
   ],
   "source": [
    "mask.size()"
   ]
  },
  {
   "cell_type": "code",
   "execution_count": 27,
   "metadata": {},
   "outputs": [],
   "source": [
    "## accuracy\n",
    "y_true = T.masked_select(batch_1[\"target\"].permute(1, 0), mask.permute(1, 0))\n",
    "predicted = T.masked_select(predicted, mask.permute(1, 0))"
   ]
  },
  {
   "cell_type": "code",
   "execution_count": 28,
   "metadata": {},
   "outputs": [
    {
     "data": {
      "text/plain": [
       "tensor(0., dtype=torch.float64)"
      ]
     },
     "execution_count": 28,
     "metadata": {},
     "output_type": "execute_result"
    }
   ],
   "source": [
    "(y_true == predicted).double().mean()"
   ]
  },
  {
   "cell_type": "code",
   "execution_count": 32,
   "metadata": {},
   "outputs": [
    {
     "data": {
      "text/plain": [
       "torch.Size([960, 9725])"
      ]
     },
     "execution_count": 32,
     "metadata": {},
     "output_type": "execute_result"
    }
   ],
   "source": [
    "model_op.size()"
   ]
  },
  {
   "cell_type": "code",
   "execution_count": 33,
   "metadata": {},
   "outputs": [
    {
     "ename": "IndexError",
     "evalue": "Dimension out of range (expected to be in range of [-2, 1], but got 2)",
     "output_type": "error",
     "traceback": [
      "\u001b[0;31m---------------------------------------------------------------------------\u001b[0m",
      "\u001b[0;31mIndexError\u001b[0m                                Traceback (most recent call last)",
      "\u001b[0;32m/var/folders/d9/lyt06lh163z7jmwgdbf_mb_00000gn/T/ipykernel_53050/717538869.py\u001b[0m in \u001b[0;36m<module>\u001b[0;34m\u001b[0m\n\u001b[0;32m----> 1\u001b[0;31m \u001b[0mmodel_op\u001b[0m \u001b[0;34m=\u001b[0m \u001b[0mmodel_op\u001b[0m\u001b[0;34m.\u001b[0m\u001b[0mview\u001b[0m\u001b[0;34m(\u001b[0m\u001b[0;34m-\u001b[0m\u001b[0;36m1\u001b[0m\u001b[0;34m,\u001b[0m \u001b[0mmodel_op\u001b[0m\u001b[0;34m.\u001b[0m\u001b[0msize\u001b[0m\u001b[0;34m(\u001b[0m\u001b[0;36m2\u001b[0m\u001b[0;34m)\u001b[0m\u001b[0;34m)\u001b[0m\u001b[0;34m\u001b[0m\u001b[0;34m\u001b[0m\u001b[0m\n\u001b[0m",
      "\u001b[0;31mIndexError\u001b[0m: Dimension out of range (expected to be in range of [-2, 1], but got 2)"
     ]
    }
   ],
   "source": [
    "model_op = model_op.view(-1, model_op.size(2))"
   ]
  },
  {
   "cell_type": "code",
   "execution_count": 56,
   "metadata": {},
   "outputs": [
    {
     "data": {
      "text/plain": [
       "torch.Size([120, 8, 9725])"
      ]
     },
     "execution_count": 56,
     "metadata": {},
     "output_type": "execute_result"
    }
   ],
   "source": [
    "model_op.size()"
   ]
  },
  {
   "cell_type": "code",
   "execution_count": 57,
   "metadata": {},
   "outputs": [
    {
     "data": {
      "text/plain": [
       "torch.Size([960])"
      ]
     },
     "execution_count": 57,
     "metadata": {},
     "output_type": "execute_result"
    }
   ],
   "source": [
    "batch_1[\"target\"].view(-1).size()"
   ]
  },
  {
   "cell_type": "code",
   "execution_count": 62,
   "metadata": {},
   "outputs": [
    {
     "data": {
      "text/plain": [
       "torch.Size([8, 120, 9725])"
      ]
     },
     "execution_count": 62,
     "metadata": {},
     "output_type": "execute_result"
    }
   ],
   "source": [
    "model_op.permute(1, 0, 2).size()"
   ]
  },
  {
   "cell_type": "code",
   "execution_count": 63,
   "metadata": {},
   "outputs": [
    {
     "data": {
      "text/plain": [
       "torch.Size([8, 120])"
      ]
     },
     "execution_count": 63,
     "metadata": {},
     "output_type": "execute_result"
    }
   ],
   "source": [
    "batch_1[\"target\"].size()"
   ]
  },
  {
   "cell_type": "code",
   "execution_count": 68,
   "metadata": {},
   "outputs": [
    {
     "data": {
      "text/plain": [
       "tensor(9.1236, grad_fn=<NllLoss2DBackward>)"
      ]
     },
     "execution_count": 68,
     "metadata": {},
     "output_type": "execute_result"
    }
   ],
   "source": [
    "F.cross_entropy(model_op.permute(1, 2, 0), batch_1[\"target\"])"
   ]
  },
  {
   "cell_type": "code",
   "execution_count": 70,
   "metadata": {},
   "outputs": [
    {
     "data": {
      "text/plain": [
       "tensor(9.3915, grad_fn=<DivBackward0>)"
      ]
     },
     "execution_count": 70,
     "metadata": {},
     "output_type": "execute_result"
    }
   ],
   "source": [
    "## loss\n",
    "loss = F.cross_entropy(model_op.permute(1, 2, 0), batch_1[\"target\"], reduction=\"none\")\n",
    "loss = loss * mask\n",
    "loss.sum() / (mask.sum() + 1e-8)"
   ]
  },
  {
   "cell_type": "code",
   "execution_count": null,
   "metadata": {},
   "outputs": [],
   "source": []
  },
  {
   "cell_type": "code",
   "execution_count": 37,
   "metadata": {},
   "outputs": [
    {
     "data": {
      "text/plain": [
       "(torch.Tensor, torch.Tensor, torch.Tensor)"
      ]
     },
     "execution_count": 37,
     "metadata": {},
     "output_type": "execute_result"
    }
   ],
   "source": [
    "type(model_op), type(batch_1[\"target\"]), type(mask)"
   ]
  },
  {
   "cell_type": "code",
   "execution_count": 38,
   "metadata": {},
   "outputs": [
    {
     "data": {
      "text/plain": [
       "torch.Tensor"
      ]
     },
     "execution_count": 38,
     "metadata": {},
     "output_type": "execute_result"
    }
   ],
   "source": [
    "type(loss)"
   ]
  },
  {
   "cell_type": "code",
   "execution_count": 39,
   "metadata": {},
   "outputs": [
    {
     "data": {
      "text/plain": [
       "tensor(0.6667, dtype=torch.float64)"
      ]
     },
     "execution_count": 39,
     "metadata": {},
     "output_type": "execute_result"
    }
   ],
   "source": [
    "(T.tensor([1, 2, 3]) == T.tensor([1, 0, 3])).double().mean()"
   ]
  },
  {
   "cell_type": "code",
   "execution_count": 40,
   "metadata": {},
   "outputs": [
    {
     "data": {
      "text/plain": [
       "bert4rec_model.RecommendationModel"
      ]
     },
     "execution_count": 40,
     "metadata": {},
     "output_type": "execute_result"
    }
   ],
   "source": [
    "type(rec_model)"
   ]
  },
  {
   "cell_type": "code",
   "execution_count": 41,
   "metadata": {},
   "outputs": [
    {
     "data": {
      "text/plain": [
       "torch.utils.data.dataloader.DataLoader"
      ]
     },
     "execution_count": 41,
     "metadata": {},
     "output_type": "execute_result"
    }
   ],
   "source": [
    "type(dataloader)"
   ]
  },
  {
   "cell_type": "code",
   "execution_count": 42,
   "metadata": {},
   "outputs": [],
   "source": [
    "means = [1, 2, 3.3, 4.5, 6.6, 7, 8]\n",
    "batch_sizes = [8, 8, 8, 8, 8, 8, 4]\n",
    "accuracy = T.sum(T.tensor(batch_sizes) * T.tensor(means)) / T.sum(\n",
    "        T.tensor(batch_sizes))"
   ]
  },
  {
   "cell_type": "code",
   "execution_count": 43,
   "metadata": {},
   "outputs": [
    {
     "data": {
      "text/plain": [
       "4.3692307472229"
      ]
     },
     "execution_count": 43,
     "metadata": {},
     "output_type": "execute_result"
    }
   ],
   "source": [
    "accuracy.item()"
   ]
  },
  {
   "cell_type": "code",
   "execution_count": 44,
   "metadata": {},
   "outputs": [
    {
     "ename": "RuntimeError",
     "evalue": "number of dims don't match in permute",
     "output_type": "error",
     "traceback": [
      "\u001b[0;31m---------------------------------------------------------------------------\u001b[0m",
      "\u001b[0;31mRuntimeError\u001b[0m                              Traceback (most recent call last)",
      "\u001b[0;32m/var/folders/d9/lyt06lh163z7jmwgdbf_mb_00000gn/T/ipykernel_53050/1644242248.py\u001b[0m in \u001b[0;36m<module>\u001b[0;34m\u001b[0m\n\u001b[0;32m----> 1\u001b[0;31m \u001b[0mpredicted\u001b[0m\u001b[0;34m.\u001b[0m\u001b[0mpermute\u001b[0m\u001b[0;34m(\u001b[0m\u001b[0;36m0\u001b[0m\u001b[0;34m,\u001b[0m \u001b[0;36m1\u001b[0m\u001b[0;34m)\u001b[0m\u001b[0;34m.\u001b[0m\u001b[0msize\u001b[0m\u001b[0;34m(\u001b[0m\u001b[0;34m)\u001b[0m\u001b[0;34m\u001b[0m\u001b[0;34m\u001b[0m\u001b[0m\n\u001b[0m",
      "\u001b[0;31mRuntimeError\u001b[0m: number of dims don't match in permute"
     ]
    }
   ],
   "source": [
    "predicted.permute(0, 1).size()"
   ]
  },
  {
   "cell_type": "code",
   "execution_count": 45,
   "metadata": {},
   "outputs": [
    {
     "data": {
      "text/plain": [
       "torch.Size([94])"
      ]
     },
     "execution_count": 45,
     "metadata": {},
     "output_type": "execute_result"
    }
   ],
   "source": [
    "predicted.size()"
   ]
  },
  {
   "cell_type": "code",
   "execution_count": null,
   "metadata": {},
   "outputs": [],
   "source": []
  }
 ],
 "metadata": {
  "interpreter": {
   "hash": "ff9c16f4f11009bb918bd4cbef0c02902e53456483176d7e27b50617b808988a"
  },
  "kernelspec": {
   "display_name": "Python 3.7.10 ('clustering')",
   "language": "python",
   "name": "python3"
  },
  "language_info": {
   "codemirror_mode": {
    "name": "ipython",
    "version": 3
   },
   "file_extension": ".py",
   "mimetype": "text/x-python",
   "name": "python",
   "nbconvert_exporter": "python",
   "pygments_lexer": "ipython3",
   "version": "3.7.10"
  },
  "orig_nbformat": 4
 },
 "nbformat": 4,
 "nbformat_minor": 2
}
